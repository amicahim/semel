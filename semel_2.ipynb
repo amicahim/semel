{
 "cells": [
  {
   "cell_type": "code",
   "execution_count": 1,
   "id": "36bc15d9-aaa9-47ed-9bd6-8de787151b8f",
   "metadata": {},
   "outputs": [],
   "source": [
    "# Semel TLV observational ML analysis\n",
    "# Determining final deformation based on initial excavation displacement profile\n",
    "# Critical displacement at base of synagogue (Y)\n",
    "# Slurry wall displacement profile (X)\n",
    "\n",
    "\n"
   ]
  },
  {
   "cell_type": "code",
   "execution_count": 2,
   "id": "9e6b5c5e-3f65-44e2-8f5c-64aac38d657b",
   "metadata": {},
   "outputs": [],
   "source": [
    "import matplotlib.pyplot as plt\n",
    "from sklearn import preprocessing\n",
    "from sklearn.utils import shuffle\n",
    "from sklearn import svm\n",
    "import numpy as np\n",
    "import pandas as pd\n",
    "from sklearn.model_selection import cross_val_score\n",
    "from sklearn.model_selection import KFold\n",
    "from sklearn.model_selection import train_test_split\n",
    "from sklearn.preprocessing import StandardScaler\n",
    "from sklearn.pipeline import Pipeline\n",
    "from sklearn.metrics import mean_squared_error\n",
    "from sklearn.linear_model import LinearRegression\n",
    "from sklearn.multioutput import MultiOutputRegressor\n",
    "from sklearn.linear_model import Ridge\n",
    "from sklearn.tree import DecisionTreeRegressor\n",
    "from sklearn.ensemble import RandomForestRegressor\n",
    "from sklearn.linear_model import Perceptron\n",
    "from sklearn.metrics import mean_squared_error, r2_score\n"
   ]
  },
  {
   "cell_type": "markdown",
   "id": "f6a91b08-e34f-4776-b592-8b38af4ac905",
   "metadata": {},
   "source": [
    "# Generation of WDP from RS2 result files"
   ]
  },
  {
   "cell_type": "code",
   "execution_count": 3,
   "id": "e605b102-1eb3-4e50-a374-14d02f997010",
   "metadata": {},
   "outputs": [],
   "source": [
    "# Wall displacement profile nodes from FE model\n",
    "Profile=[1649, 6316, 1650, 5035, 1651, 6029, 1652, 6027, 1653, 5024, 1654,  5012, 1656, 1657, 1659, 1661, 1662, 1664, \n",
    "          4972, 1666, 4958, 1667, 4958, 1668, 4952]\n",
    "# removed: 5019, 4978, 371 that caused outliers "
   ]
  },
  {
   "cell_type": "code",
   "execution_count": null,
   "id": "34b30c9b-8f5c-4d40-801b-7d4736ee40fe",
   "metadata": {},
   "outputs": [],
   "source": [
    "#inputs according to size of MC analysis\n",
    "l=999 # number of RS2 models (samples)\n",
    "nos=l # number of samples for each variable\n",
    "n=len(Profile) # number of wall displacement profile nodes\n",
    "# Node 290 stage 4- critical displacement at base of synagogue (Y)\n",
    "# Node list, stage 3- slurry wall displacement profile (X)\n",
    "\n",
    "\n",
    "X=np.zeros((l,n)) # WDP in the paper\n",
    "Xmax=[]\n",
    "Y=np.zeros(l) # BD in the paper\n",
    "no_cons=[] # non-converging models\n",
    "no_con=0\n",
    "\n",
    "for j in range(l):\n",
    "    if j<9: # adjust according to number of digits nos\n",
    "        qq='00'+str(j+1)+ '.r03'\n",
    "        cc='00'+str(j+1)+ '.log'\n",
    "        yy='00'+str(j+1)+ '.r04'\n",
    "    if j>=9 and j<99:     \n",
    "        qq='0'+str(j+1)+ '.r03'\n",
    "        cc='0'+str(j+1)+ '.log'\n",
    "        yy='0'+str(j+1)+ '.r04'\n",
    "    if j>=99 and j<999:\n",
    "        qq=str(j+1)+ '.r03'\n",
    "        cc=str(j+1)+ '.log'\n",
    "        yy=str(j+1)+ '.r04'\n",
    "    if j>=999 and j<l+1:\n",
    "        qq=str(j+1)+ '.r03'\n",
    "        cc=str(j+1)+ '.log'\n",
    "        yy=str(j+1)+ '.r04'\n",
    "    \n",
    "    path1=r'C:\\Users\\amichai\\Desktop\\python_practice\\RS2\\semel_mc2\\\\'+qq \n",
    "    path2=r'C:\\Users\\amichai\\Desktop\\python_practice\\RS2\\semel_mc2\\\\'+cc\n",
    "    path3=r'C:\\Users\\amichai\\Desktop\\python_practice\\RS2\\semel_mc2\\\\'+yy \n",
    "    data=pd.read_fwf(path1, delimiter = ' ') # result file for X\n",
    "    y_data=pd.read_fwf(path3, delimiter = ' ') # result file for Y\n",
    "    con=pd.read_fwf(path2, delimiter = ' ') # convergence file\n",
    "    # checking for non-convergence\n",
    "    check = np.column_stack([con[col].astype(str).str.contains(\"Convergence was not established\", na=False) for col in con])\n",
    "    for k in range(len(check)):\n",
    "        if any(check[k])==True:\n",
    "            no_cons.append(j+1)\n",
    "            n_con=no_con+1\n",
    "            break            \n",
    "    # horizontal displacement results at tunnel nodes\n",
    "    for i in range(n): # \n",
    "        b=data.iloc[Profile[i]+5, 0] # add 5 to node number according to notebook\n",
    "        b=b.split()\n",
    "        b=pd.to_numeric(b)\n",
    "        # b=((b[1]**2+b[2]**2)**0.5)\n",
    "        X[j,i]=b[1]\n",
    "    \n",
    "    Xmax.append(X[j,:].min())\n",
    "    \n",
    "    # Y data: horizontal displacement at basement\n",
    "    c=y_data.iloc[204+5,0] # add 5 to node number according to notebook\n",
    "    c=c.split()\n",
    "    c=pd.to_numeric(c)\n",
    "    # c=((c[1]**2+c[2]**2)**0.5)\n",
    "    Y[j]=c[1]\n",
    "    # X[j,0]=a[j,:].max()\n",
    "    # X[j,1]=a[j,:].min()\n",
    "\n",
    "\n"
   ]
  },
  {
   "cell_type": "code",
   "execution_count": 33,
   "id": "72dc3518-2259-45d1-8ad0-cfe9133c2c4a",
   "metadata": {},
   "outputs": [],
   "source": [
    "# RS2 input and output loaded from file\n",
    "# requires updating path to Xrs2 and Yrs2 text files\n",
    "# X = pd.read_fwf (r'C:\\Users\\amichai\\V1.txt')\n",
    "# Y = pd.read_fwf (r'C:\\Users\\amichai\\V2.txt')\n",
    "# X2 = pd.read_fwf (r'C:\\Users\\amichai\\V3.txt')\n",
    "# convert dataframe to np array\n",
    "# X=np.array(X)\n",
    "# Y=np.array(Y)\n",
    "# X2=np.array(X2)"
   ]
  },
  {
   "cell_type": "code",
   "execution_count": 34,
   "id": "c2108a09-aa04-4d28-805b-52e63e0c0ea5",
   "metadata": {},
   "outputs": [
    {
     "data": {
      "text/plain": [
       "array([], dtype=float64)"
      ]
     },
     "execution_count": 34,
     "metadata": {},
     "output_type": "execute_result"
    }
   ],
   "source": [
    "# checking for non-converging models\n",
    "no_cons=np.array(no_cons)\n",
    "no_cons"
   ]
  },
  {
   "cell_type": "code",
   "execution_count": 35,
   "id": "7d156a13-0f47-4f09-b0c4-4fd28f25ce4f",
   "metadata": {},
   "outputs": [],
   "source": [
    "# removing non-converging models from X and Y\n",
    "if no_con>0:\n",
    "    X=np.delete(X,no_cons,0)\n",
    "    Y=np.delete(Y,no_cons,0)\n",
    "    l=l-len(no_cons)\n",
    "    nos=l"
   ]
  },
  {
   "cell_type": "code",
   "execution_count": 36,
   "id": "3db69fb6-a025-4625-b8f8-46222805fa4f",
   "metadata": {},
   "outputs": [
    {
     "data": {
      "image/png": "[encoded data removed]",
      "text/plain": [
       "<Figure size 432x288 with 1 Axes>"
      ]
     },
     "metadata": {
      "needs_background": "light"
     },
     "output_type": "display_data"
    }
   ],
   "source": [
    "# Sample of WDP plots\n",
    "\n",
    "# plt.plot(X[32,:])\n",
    "plt.plot(X[0,:],'*')\n",
    "plt.plot(X[84,:],'+')\n",
    "plt.plot(X[6,:],'.')\n",
    "plt.plot(X[70,:],'^')\n",
    "# plt.plot(X,'*')\n",
    "plt.show()"
   ]
  },
  {
   "cell_type": "code",
   "execution_count": 37,
   "id": "ba859e8c-3108-4857-ba97-1a20c5661c8f",
   "metadata": {},
   "outputs": [
    {
     "data": {
      "image/png": "[encoded data removed]",
      "text/plain": [
       "<Figure size 432x288 with 1 Axes>"
      ]
     },
     "metadata": {
      "needs_background": "light"
     },
     "output_type": "display_data"
    }
   ],
   "source": [
    "# plot of max. WDP vs. BD. Shows that no correlation exists\n",
    "Xp=1000*np.array(Xmax)\n",
    "Yp=1000*np.array(Y)\n",
    "fig, ax = plt.subplots()\n",
    "ax.plot(Xp,Yp,'*')\n",
    "m, b = np.polyfit(Xp,Yp, 1)\n",
    "model = np.polyfit(Xp, Yp, 1)\n",
    "predict = np.poly1d(model)\n",
    "r2_lin=round(r2_score(Yp, predict(Xp)),4)\n",
    "plt.plot(Xp, m*Xp + b)\n",
    "plt.xlabel('Max. WDP [mm]')\n",
    "plt.ylabel('BD [mm]')\n",
    "plt.rcParams.update({'font.size': 13.5})\n",
    "model = np.polyfit(Xp, Yp, 1)\n",
    "# predict = np.poly1d(model)\n",
    "# ax.annotate('R2='%(), (-9.8, -0.75))\n",
    "# ax.annotate(r2_lin, (-9.0, -0.75))\n",
    "plt.show()"
   ]
  },
  {
   "cell_type": "code",
   "execution_count": 38,
   "id": "619923dd-8fda-47c5-9a3d-a0a033a3c089",
   "metadata": {},
   "outputs": [
    {
     "data": {
      "text/plain": [
       "0.7570829592442615"
      ]
     },
     "execution_count": 38,
     "metadata": {},
     "output_type": "execute_result"
    }
   ],
   "source": [
    "# ML defromation prediction of BD based on WDP\n",
    "\n",
    "# X, Y = shuffle(X, Y)\n",
    "X_train, X_test, y_train, y_test = train_test_split(X, Y, test_size=0.3, random_state=42)\n",
    "\n",
    "# Random forest model\n",
    "regr_rf = RandomForestRegressor(max_depth=80, random_state=123)\n",
    "regr_rf.fit(X_train, y_train)\n",
    "# Predict on new data\n",
    "y_rf = regr_rf.predict(X_test)\n",
    "forestscore=regr_rf.score(X_test, y_test, sample_weight=None)\n",
    "forestscore"
   ]
  },
  {
   "cell_type": "code",
   "execution_count": 39,
   "id": "b8c63810-013a-4e6d-aa78-399a1cd1300e",
   "metadata": {},
   "outputs": [
    {
     "data": {
      "image/png": "[encoded data removed]",
      "text/plain": [
       "<Figure size 720x432 with 1 Axes>"
      ]
     },
     "metadata": {
      "needs_background": "light"
     },
     "output_type": "display_data"
    }
   ],
   "source": [
    "predictions = y_rf\n",
    "df_temp2 = pd.DataFrame({'Actual': 1000*y_test, 'Predicted': 1000*predictions})\n",
    "df_temp2 = df_temp2.head(11)\n",
    "df_temp2.plot(kind='bar',figsize=(10,6))\n",
    "plt.grid(which='major', linestyle='-', linewidth='0.5', color='green')\n",
    "plt.grid(which='minor', linestyle=':', linewidth='0.5', color='black')\n",
    "plt.xlabel('Model #')\n",
    "plt.ylabel('BD [mm]')\n",
    "plt.show()"
   ]
  },
  {
   "cell_type": "markdown",
   "id": "f7438a3e-705f-4644-9d19-58cce3a5082e",
   "metadata": {},
   "source": [
    "# Plot of score vs. number of samples"
   ]
  },
  {
   "cell_type": "code",
   "execution_count": 40,
   "id": "58cd05ae-18c0-4554-b9fb-286de3c70fa4",
   "metadata": {},
   "outputs": [
    {
     "name": "stdout",
     "output_type": "stream",
     "text": [
      "max. samples:  800\n"
     ]
    }
   ],
   "source": [
    "nn=77\n",
    "initial=30\n",
    "delta=10\n",
    "print(\"max. samples: \", initial+delta*nn)\n",
    "Forestscore=np.zeros(nn)"
   ]
  },
  {
   "cell_type": "code",
   "execution_count": 43,
   "id": "052e9300-2454-4bc7-a2f5-431263f7a5c0",
   "metadata": {},
   "outputs": [],
   "source": [
    "\n",
    "ll=[]\n",
    "\n",
    "for i in range(nn):\n",
    "    j=int(initial+delta*i)\n",
    "    ll.append(j)\n",
    "    # X_train, y_train = shuffle(X_train, y_train)\n",
    "    X_train=X[0:int(0.7*j),:]\n",
    "    y_train=Y[0:int(0.7*j)]\n",
    "    X_test=X_test[0:int(0.3*j),:]\n",
    "    y_test=y_test[0:int(0.3*j)]\n",
    "    # X_train, X_test, y_train, y_test = train_test_split(X1, Y1, test_size=0.3, random_state=42)\n",
    "    \n",
    "    # Random forest model\n",
    "    regr_rf = RandomForestRegressor(max_depth=50, random_state=0)\n",
    "    regr_rf.fit(X_train, y_train)\n",
    "    # Predict on new data\n",
    "    y_rf = regr_rf.predict(X_test)\n",
    "    Forestscore[i]=regr_rf.score(X_test, y_test, sample_weight=None)"
   ]
  },
  {
   "cell_type": "code",
   "execution_count": 45,
   "id": "dbea3f2d-8c0c-4540-af1c-38abe670a36c",
   "metadata": {},
   "outputs": [
    {
     "data": {
      "image/png": "[encoded data removed]",
      "text/plain": [
       "<Figure size 432x288 with 1 Axes>"
      ]
     },
     "metadata": {
      "needs_background": "light"
     },
     "output_type": "display_data"
    }
   ],
   "source": [
    "plt.plot(ll, Forestscore,label='forest')\n",
    "# plt.legend(loc='lower right')\n",
    "plt.xlabel('Number of FE models')\n",
    "plt.ylabel('RF model score')\n",
    "plt.rcParams.update({'font.size': 13.5})\n",
    "plt.show()"
   ]
  },
  {
   "cell_type": "markdown",
   "id": "1445fe88-c255-42cf-b180-ca5f0549724c",
   "metadata": {
    "tags": []
   },
   "source": [
    "## Data preparation for feature importance"
   ]
  },
  {
   "cell_type": "code",
   "execution_count": 53,
   "id": "c38bd53c-66f8-43f0-b1db-f3e1f7f57297",
   "metadata": {},
   "outputs": [],
   "source": [
    "# X2 defined as varied parameters for feature importance\n",
    "# takes inputs from varsamples and arranges them in X2\n",
    "d2 = pd.read_fwf (r'C:\\Users\\amichai\\Desktop\\python_practice\\RS2\\semel_mc2\\varsamples.txt')\n",
    "nov=15\n",
    "l=999\n",
    "nos=l # adjust if checking subset of models\n",
    "X2=np.zeros((l,nov))\n",
    "\n",
    "for i in range(9,9+l):\n",
    "    for j in range(nov):\n",
    "        yy=d2.iloc[i+j*(nos+8),0]\n",
    "        yy=pd.to_numeric(yy)\n",
    "        X2[i-9,j]=yy\n"
   ]
  },
  {
   "cell_type": "code",
   "execution_count": 54,
   "id": "6c9ad0d9-23a5-4b5a-9054-251be8d9fae6",
   "metadata": {},
   "outputs": [],
   "source": [
    "V1=X\n",
    "np.savetxt('V1.txt',V1)\n",
    "V2=Y\n",
    "np.savetxt('V2.txt',V2)\n",
    "V3=X2\n",
    "np.savetxt('V3.txt',V3)"
   ]
  },
  {
   "cell_type": "code",
   "execution_count": 55,
   "id": "8d637aaf-ea42-48ae-9587-480fab3dda2c",
   "metadata": {},
   "outputs": [
    {
     "data": {
      "text/plain": [
       "0.876016237857709"
      ]
     },
     "execution_count": 55,
     "metadata": {},
     "output_type": "execute_result"
    }
   ],
   "source": [
    "# ML feature importance, input parameters against BD\n",
    "\n",
    "X2, Y = shuffle(X2, Y)\n",
    "X_train2, X_test2, y_train2, y_test2 = train_test_split(X2, Y, test_size=0.3, random_state=42)\n",
    "\n",
    "# Random forest model\n",
    "regr_rf = RandomForestRegressor(max_depth=60, random_state=0)\n",
    "regr_rf.fit(X_train2, y_train2)\n",
    "# Predict on new data\n",
    "y_rf = regr_rf.predict(X_test2)\n",
    "forestscore2=regr_rf.score(X_test2, y_test2, sample_weight=None)\n",
    "forestscore2"
   ]
  },
  {
   "cell_type": "code",
   "execution_count": null,
   "id": "60162f7b-5e35-405e-b602-7f286ef8848c",
   "metadata": {},
   "outputs": [],
   "source": [
    "Kurkar 2,  Young's Modulus\n",
    "Kurkar 2,  Friction Angle (peak)\n",
    "Kurkar 2,  Cohesion (peak)\n",
    "Kurkar 2,  Friction Angle (residual)\n",
    "Kurkar 2,  Cohesion (residual)\n",
    "Fill,  Young's Modulus\n",
    "Fill,  Friction Angle (peak)\n",
    "Kurkar E\n",
    "Kurkar,  Friction Angle (peak)\n",
    "Kurkar,  Cohesion (peak)\n",
    "Kurkar,  Friction Angle (residual)\n",
    "Joint 1,  Normal Stiffness\n",
    "Joint 1,  Shear Stiffness\n",
    "Joint 1,  Friction Angle\n",
    "Effective Stress Ratio (in plane\n"
   ]
  },
  {
   "cell_type": "code",
   "execution_count": 58,
   "id": "87e4215f-8edd-4e03-8262-00d06b06ef73",
   "metadata": {},
   "outputs": [
    {
     "data": {
      "image/png": "[encoded data removed]",
      "text/plain": [
       "<Figure size 432x288 with 1 Axes>"
      ]
     },
     "metadata": {
      "needs_background": "light"
     },
     "output_type": "display_data"
    }
   ],
   "source": [
    "if forestscore2>0.4:\n",
    "    # feature importance\n",
    "    fi=regr_rf.feature_importances_\n",
    "    data = {'E3':fi[0], 'FA3':fi[1], 'C3':fi[2],\n",
    "            'RFA3':fi[3], 'RC3':fi[4], 'E1':fi[5],\n",
    "           'FA1':fi[6], 'E2':fi[7], 'FA2':fi[8],\n",
    "           'C2':fi[9], 'FA2':fi[10], 'JNN':fi[11],\n",
    "           'JSS':fi[12], 'JFA':fi[13], 'K':fi[14]}\n",
    "    models = list(data.keys())\n",
    "    values = list(data.values())\n",
    "    plt.bar(models, values, color ='Blue', width = 0.75)\n",
    "    plt.xticks(rotation=90)\n",
    "    plt.xlabel(\"Input parameters\", fontsize=16)\n",
    "    plt.ylabel(\"Feature importance\", fontsize=16)"
   ]
  },
  {
   "cell_type": "code",
   "execution_count": 402,
   "id": "2339480a-adaa-457d-83c9-23b54eb404ac",
   "metadata": {},
   "outputs": [
    {
     "data": {
      "text/plain": [
       "array([-0.00141931])"
      ]
     },
     "execution_count": 402,
     "metadata": {},
     "output_type": "execute_result"
    }
   ],
   "source": [
    "regr_rf.predict(X2[[0]])"
   ]
  },
  {
   "cell_type": "code",
   "execution_count": 403,
   "id": "a6c826da-005a-4511-b94a-2c0f3a38af48",
   "metadata": {},
   "outputs": [
    {
     "data": {
      "text/plain": [
       "-0.0014347"
      ]
     },
     "execution_count": 403,
     "metadata": {},
     "output_type": "execute_result"
    }
   ],
   "source": [
    "Y[0]"
   ]
  },
  {
   "cell_type": "code",
   "execution_count": null,
   "id": "52fc533a-dcb5-440a-a718-6ee9b0f25b80",
   "metadata": {},
   "outputs": [],
   "source": []
  }
 ],
 "metadata": {
  "kernelspec": {
   "display_name": "Python 3 (ipykernel)",
   "language": "python",
   "name": "python3"
  },
  "language_info": {
   "codemirror_mode": {
    "name": "ipython",
    "version": 3
   },
   "file_extension": ".py",
   "mimetype": "text/x-python",
   "name": "python",
   "nbconvert_exporter": "python",
   "pygments_lexer": "ipython3",
   "version": "3.7.8rc1"
  }
 },
 "nbformat": 4,
 "nbformat_minor": 5
}
